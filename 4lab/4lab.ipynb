{
  "nbformat": 4,
  "nbformat_minor": 0,
  "metadata": {
    "colab": {
      "name": "4lab.ipynb",
      "provenance": [],
      "collapsed_sections": []
    },
    "kernelspec": {
      "name": "python3",
      "display_name": "Python 3"
    }
  },
  "cells": [
    {
      "cell_type": "code",
      "metadata": {
        "id": "l7NPGqyg2oqR"
      },
      "source": [
        "from sklearn.cluster import k_means, dbscan\r\n",
        "import pandas as pd\r\n",
        "import numpy as np\r\n",
        "from time import time"
      ],
      "execution_count": 1,
      "outputs": []
    },
    {
      "cell_type": "code",
      "metadata": {
        "id": "wP3VF8Es2sj-"
      },
      "source": [
        "data = pd.read_csv('birch3.txt', '\\n', header=None)\r\n",
        "data[0] = data[0].str.replace('^[ ]+', '')\r\n",
        "data[0] = data[0].str.replace('[ ]+', '$')\r\n",
        "data = data[0].str.split('$', expand=True)\r\n",
        "data = data.astype(int).to_numpy()"
      ],
      "execution_count": 2,
      "outputs": []
    },
    {
      "cell_type": "code",
      "metadata": {
        "colab": {
          "base_uri": "https://localhost:8080/"
        },
        "id": "3zkmy7RE2wHe",
        "outputId": "2d8e6bf3-c2cf-4811-8ad0-a816f2b0396a"
      },
      "source": [
        "st = time()\r\n",
        "k_means(data, 100, n_jobs=1)\r\n",
        "time() - st"
      ],
      "execution_count": 3,
      "outputs": [
        {
          "output_type": "execute_result",
          "data": {
            "text/plain": [
              "44.38726019859314"
            ]
          },
          "metadata": {
            "tags": []
          },
          "execution_count": 3
        }
      ]
    },
    {
      "cell_type": "code",
      "metadata": {
        "colab": {
          "base_uri": "https://localhost:8080/"
        },
        "id": "0ureyLi23FP9",
        "outputId": "14812892-cb2f-45db-b1d7-0cf7257481dd"
      },
      "source": [
        "st = time()\r\n",
        "k_means(data, 100, n_jobs=2)\r\n",
        "time() - st"
      ],
      "execution_count": 4,
      "outputs": [
        {
          "output_type": "execute_result",
          "data": {
            "text/plain": [
              "27.729679107666016"
            ]
          },
          "metadata": {
            "tags": []
          },
          "execution_count": 4
        }
      ]
    },
    {
      "cell_type": "code",
      "metadata": {
        "colab": {
          "base_uri": "https://localhost:8080/"
        },
        "id": "5ORr5EdM3GXI",
        "outputId": "c2f0c70c-9237-4201-db80-c8857d5da69f"
      },
      "source": [
        "st = time()\r\n",
        "k_means(data, 100, n_jobs=4)\r\n",
        "time() - st"
      ],
      "execution_count": 5,
      "outputs": [
        {
          "output_type": "execute_result",
          "data": {
            "text/plain": [
              "26.553485870361328"
            ]
          },
          "metadata": {
            "tags": []
          },
          "execution_count": 5
        }
      ]
    },
    {
      "cell_type": "code",
      "metadata": {
        "colab": {
          "base_uri": "https://localhost:8080/"
        },
        "id": "McECiaGw3JsP",
        "outputId": "188c7e86-3a97-42cc-b0b6-425587ae7eb5"
      },
      "source": [
        "st = time()\r\n",
        "k_means(data, 100, n_jobs=8)\r\n",
        "time() - st"
      ],
      "execution_count": 6,
      "outputs": [
        {
          "output_type": "execute_result",
          "data": {
            "text/plain": [
              "27.229990005493164"
            ]
          },
          "metadata": {
            "tags": []
          },
          "execution_count": 6
        }
      ]
    },
    {
      "cell_type": "code",
      "metadata": {
        "colab": {
          "base_uri": "https://localhost:8080/"
        },
        "id": "E9PffORd3WIN",
        "outputId": "7230aadc-46e1-43b7-e419-d2fd1bbea7c8"
      },
      "source": [
        "st = time()\r\n",
        "dbscan(data, eps=6000, n_jobs=1)\r\n",
        "time() - st"
      ],
      "execution_count": 7,
      "outputs": [
        {
          "output_type": "execute_result",
          "data": {
            "text/plain": [
              "2.059558629989624"
            ]
          },
          "metadata": {
            "tags": []
          },
          "execution_count": 7
        }
      ]
    },
    {
      "cell_type": "code",
      "metadata": {
        "colab": {
          "base_uri": "https://localhost:8080/"
        },
        "id": "ncpWl9263bAq",
        "outputId": "7926827a-ee2a-42cd-c957-54a578f9ae4f"
      },
      "source": [
        "st = time()\r\n",
        "dbscan(data, eps=6000, n_jobs=2)\r\n",
        "time() - st"
      ],
      "execution_count": 8,
      "outputs": [
        {
          "output_type": "execute_result",
          "data": {
            "text/plain": [
              "1.8053996562957764"
            ]
          },
          "metadata": {
            "tags": []
          },
          "execution_count": 8
        }
      ]
    },
    {
      "cell_type": "code",
      "metadata": {
        "colab": {
          "base_uri": "https://localhost:8080/"
        },
        "id": "TTQcCvEY3cUq",
        "outputId": "8ac3494c-60b4-4dc6-a4a8-1a10b8accf6e"
      },
      "source": [
        "st = time()\r\n",
        "dbscan(data, eps=6000, n_jobs=4)\r\n",
        "time() - st"
      ],
      "execution_count": 9,
      "outputs": [
        {
          "output_type": "execute_result",
          "data": {
            "text/plain": [
              "1.8013229370117188"
            ]
          },
          "metadata": {
            "tags": []
          },
          "execution_count": 9
        }
      ]
    },
    {
      "cell_type": "code",
      "metadata": {
        "colab": {
          "base_uri": "https://localhost:8080/"
        },
        "id": "28Sb81EK3djv",
        "outputId": "1c28651e-0ec0-4164-bd16-26c0f720aa10"
      },
      "source": [
        "st = time()\r\n",
        "dbscan(data, eps=6000, n_jobs=8)\r\n",
        "time() - st"
      ],
      "execution_count": 10,
      "outputs": [
        {
          "output_type": "execute_result",
          "data": {
            "text/plain": [
              "1.8113784790039062"
            ]
          },
          "metadata": {
            "tags": []
          },
          "execution_count": 10
        }
      ]
    }
  ]
}